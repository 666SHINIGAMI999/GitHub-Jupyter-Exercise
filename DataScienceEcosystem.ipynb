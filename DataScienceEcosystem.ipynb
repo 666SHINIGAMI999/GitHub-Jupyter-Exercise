{
 "cells": [
  {
   "cell_type": "markdown",
   "id": "498573ca-7a35-41ab-afb5-1b0203ac7641",
   "metadata": {},
   "source": [
    "# Data Science Tools and Ecosystem"
   ]
  },
  {
   "cell_type": "markdown",
   "id": "a080b54e-7340-476c-bd0a-a36383cdd9ad",
   "metadata": {},
   "source": [
    "In this notebook, Data Science Tools and Ecosystem are summarized."
   ]
  },
  {
   "cell_type": "markdown",
   "id": "6d82a9df-fe53-444f-b6ae-f5ea855cf7d5",
   "metadata": {},
   "source": [
    "### Objectives:"
   ]
  },
  {
   "cell_type": "markdown",
   "id": "f10ecafa-f271-4c71-a8c1-6a17b924d8a1",
   "metadata": {},
   "source": [
    " -  R\n",
    " -  Python\n",
    " -  SQL\n",
    " -  Java"
   ]
  },
  {
   "cell_type": "markdown",
   "id": "c06eb54a-1459-45e8-8be3-e77954c614e5",
   "metadata": {},
   "source": [
    "Some of the popular languages that Data Scientists use are:\n",
    "\n",
    "1. R\n",
    "2. Python\n",
    "3. SQL"
   ]
  },
  {
   "cell_type": "markdown",
   "id": "fd018706-144a-449d-8655-553af4bd02eb",
   "metadata": {},
   "source": [
    "Some of the commonly used libraries used by Data Scientists include:\n",
    "\n",
    "1. Pandas\n",
    "2. NumPy\n",
    "3. TensorFlow"
   ]
  },
  {
   "cell_type": "markdown",
   "id": "f88847e9-95ba-41ca-a335-361f6d872d10",
   "metadata": {},
   "source": [
    "| Data Science Tools |\n",
    "| :- |\n",
    "| RStudio |\n",
    "| Jupyter Notebook |\n",
    "| VS Code |"
   ]
  },
  {
   "cell_type": "markdown",
   "id": "6b16b94d-e29e-464c-9aac-1114356b2635",
   "metadata": {
    "tags": []
   },
   "source": [
    "### Below are a few examples of evaluating arithmetic expressions in Python"
   ]
  },
  {
   "cell_type": "markdown",
   "id": "90d68989-0bb9-4236-a497-6a63ed48dd53",
   "metadata": {},
   "source": [
    "This a simple arithmetic expression to multiply then add integers"
   ]
  },
  {
   "cell_type": "code",
   "execution_count": 5,
   "id": "909b9c56-520e-4626-b5f3-5f83858bb8d9",
   "metadata": {
    "tags": []
   },
   "outputs": [
    {
     "data": {
      "text/plain": [
       "17"
      ]
     },
     "execution_count": 5,
     "metadata": {},
     "output_type": "execute_result"
    }
   ],
   "source": [
    "(3*4)+5"
   ]
  },
  {
   "cell_type": "markdown",
   "id": "55eb30f7-bbb8-41b7-b277-483135eec17a",
   "metadata": {},
   "source": [
    "This will convert 200 minutes to hours by diving by 60"
   ]
  },
  {
   "cell_type": "code",
   "execution_count": 6,
   "id": "ccf44cdb-982d-40eb-afa3-3f5250243145",
   "metadata": {
    "tags": []
   },
   "outputs": [
    {
     "data": {
      "text/plain": [
       "3.3333333333333335"
      ]
     },
     "execution_count": 6,
     "metadata": {},
     "output_type": "execute_result"
    }
   ],
   "source": [
    "200/60"
   ]
  },
  {
   "cell_type": "markdown",
   "id": "3405d4f8-6e05-4c3b-87fa-bf6e26f94d3a",
   "metadata": {},
   "source": [
    "## Author"
   ]
  },
  {
   "cell_type": "markdown",
   "id": "2edad839-1e04-45f9-ba28-080479636bdd",
   "metadata": {},
   "source": [
    "Ayman Oumoussa"
   ]
  },
  {
   "cell_type": "code",
   "execution_count": null,
   "id": "603b23d4-3478-4a50-8aa1-4b009abb0f97",
   "metadata": {},
   "outputs": [],
   "source": []
  }
 ],
 "metadata": {
  "kernelspec": {
   "display_name": "Python",
   "language": "python",
   "name": "conda-env-python-py"
  },
  "language_info": {
   "codemirror_mode": {
    "name": "ipython",
    "version": 3
   },
   "file_extension": ".py",
   "mimetype": "text/x-python",
   "name": "python",
   "nbconvert_exporter": "python",
   "pygments_lexer": "ipython3",
   "version": "3.7.12"
  }
 },
 "nbformat": 4,
 "nbformat_minor": 5
}
